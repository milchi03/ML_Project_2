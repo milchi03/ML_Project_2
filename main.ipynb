{
 "cells": [
  {
   "cell_type": "markdown",
   "metadata": {},
   "source": [
    "# Random forst algorithmen based on regression trees - implementation"
   ]
  },
  {
   "cell_type": "code",
   "execution_count": 52,
   "metadata": {},
   "outputs": [],
   "source": [
    "import numpy as np\n",
    "import random\n",
    "import pandas as pd"
   ]
  },
  {
   "cell_type": "markdown",
   "metadata": {},
   "source": [
    "## Regression trees - implementation"
   ]
  },
  {
   "cell_type": "markdown",
   "metadata": {},
   "source": [
    "To dos:  \n",
    "Splitting:  \n",
    "- option for minimum sample size for split\n",
    "- option for minimum information gain for split\n",
    "- spit by minimum SSR of all possible splits\n",
    "- candidates for the root will be decided via min SSR\n",
    "\n",
    "Evaluation:  \n",
    "- average of values in note level"
   ]
  },
  {
   "cell_type": "markdown",
   "metadata": {},
   "source": [
    "### Helper functions"
   ]
  },
  {
   "cell_type": "markdown",
   "metadata": {},
   "source": [
    "This function evaluates the effectiveness of a splitting candidate by calculating a specified metric for two subsets of data based on the given method."
   ]
  },
  {
   "cell_type": "code",
   "execution_count": 53,
   "metadata": {},
   "outputs": [],
   "source": [
    "def evaluate(subset1, subset2, method):\n",
    "    if method == \"min. MSR\":\n",
    "        predictor1 = subset1.mean()\n",
    "        predictor2 = subset2.mean()\n",
    "        \n",
    "        SSR1 = ((subset1 - predictor1) ** 2).sum() \n",
    "        SSR2 = ((subset2 - predictor2) ** 2).sum()\n",
    "        MSR = (SSR1 + SSR2)/ (len(subset1) + len(subset2))\n",
    "        return MSR\n",
    "    else:\n",
    "        print(\"Error! \", method, \" is not a method!\")"
   ]
  },
  {
   "cell_type": "markdown",
   "metadata": {},
   "source": [
    "This function identifies the best splitting candidate for the first column of a dataset by evaluating the effectiveness of splits on the second column, based on a specified evaluation method and optimization criterion (e.g., minimizing MSR)."
   ]
  },
  {
   "cell_type": "code",
   "execution_count": 54,
   "metadata": {},
   "outputs": [],
   "source": [
    "def set_optimize_best_evaluation(method):\n",
    "    if (method == \"min. MSR\"):\n",
    "        optimize = \"min\"\n",
    "        best_evaluation = float(\"inf\")\n",
    "\n",
    "    elif (method == \"???\"):\n",
    "        optimize = \"max\"\n",
    "        best_evaluation = float(\"-inf\")\n",
    "        \n",
    "    else:\n",
    "        print(\"ERROR! \", method, \" is not a implemented method!\")\n",
    "        method = \"min. MSR\"\n",
    "        optimize = \"min\"\n",
    "        best_evaluation = float(\"inf\")\n",
    "    \n",
    "    return optimize, best_evaluation"
   ]
  },
  {
   "cell_type": "code",
   "execution_count": null,
   "metadata": {},
   "outputs": [],
   "source": []
  },
  {
   "cell_type": "code",
   "execution_count": 55,
   "metadata": {},
   "outputs": [],
   "source": [
    "def RT_univariate_split(independent_variable, dependent_variable, method = \"min. MSR\"):\n",
    "    \n",
    "\n",
    "    candidates = [x for x in independent_variable.unique() if x != independent_variable.min() and x != independent_variable.max()] #only allow for actual splits so exclude min and max values as notes\n",
    "    \n",
    "    optimize, best_evaluation = set_optimize_best_evaluation(method)\n",
    "\n",
    "    best_candidate = None\n",
    "    \n",
    "    for candidate in candidates:\n",
    "        print(\"DEBUG: candidate set to \\n\", candidate, \"\\n\")\n",
    "\n",
    "        subset1 = dependent_variable[independent_variable < candidate]\n",
    "        subset2 = dependent_variable[independent_variable >= candidate]\n",
    "        #print(\"DEBUG: subset1 set to \\n\", subset1, \"\\n\")\n",
    "        #print(\"DEBUG: subset2 set to \\n\", subset2, \"\\n\")\n",
    "\n",
    "        candidate_evaluation = evaluate(subset1, subset2, method)\n",
    "        print(\"DEBUG: candidate_evaluation set to \\n\", candidate_evaluation, \"\\n\")\n",
    "\n",
    "        if optimize == \"min\":\n",
    "            if candidate_evaluation < best_evaluation:\n",
    "                best_evaluation = candidate_evaluation\n",
    "                best_candidate = candidate\n",
    "                print(\"DEBUG: best_candidate set to \\n\", best_candidate, \"\\n\")\n",
    "        else:\n",
    "            if candidate_evaluation > best_evaluation:\n",
    "                best_evaluation = candidate_evaluation\n",
    "                best_candidate = candidate\n",
    "                print(\"DEBUG: best_candidate set to \\n\", best_candidate, \"\\n\")\n",
    "\n",
    "    return best_candidate, best_evaluation"
   ]
  },
  {
   "cell_type": "code",
   "execution_count": 56,
   "metadata": {},
   "outputs": [],
   "source": [
    "def RT_split(independent_variables, dependent_variable, method = \"min. MSR\", random_feature_count = None):\n",
    "    \n",
    "    optimize, best_evaluation = set_optimize_best_evaluation(method)\n",
    "    best_column = None\n",
    "    best_candidate = None\n",
    "\n",
    "    split_results = {}\n",
    "\n",
    "    feature_columns = independent_variables.columns\n",
    "    print(\"DEBUG: feature_columns set to \\n\", feature_columns, \"\\n\")\n",
    "    if random_feature_count:\n",
    "        if random_feature_count >= len(feature_columns):\n",
    "            print(\"Warning! Not enough features! Deactivate random feature selection.\")\n",
    "            random_feature_count = None\n",
    "        elif not isinstance(random_feature_count, int) or random_feature_count < 1:\n",
    "            print(\"DEBUG: isinstance(random_feature_count, int) is set to \\n\", isinstance(random_feature_count, int), \"\\n\")\n",
    "            print(\"DEBUG: random_feature_count is set to \\n\", random_feature_count, \"\\n\")\n",
    "            print(\"Warning! random_feature_count must be int and >= 1! Deactivate random feature selection.\")\n",
    "            random_feature_count = None\n",
    "\n",
    "    if random_feature_count:\n",
    "        feature_columns = random.sample(list(feature_columns), random_feature_count)\n",
    "        print(\"DEBUG: feature_columns set to \\n\", feature_columns, \"\\n\")\n",
    "\n",
    "    for col in feature_columns:\n",
    "        \n",
    "        candidate, evaluation = RT_univariate_split(independent_variables[col], dependent_variable, method)\n",
    "        split_results[col] = {\"candidate\": candidate, \"evaluation\": evaluation}\n",
    "        print(\"DEBUG: split_results[\", col, \"] set to \\n\", split_results[col], \"\\n\")\n",
    "\n",
    "        if optimize == \"min\":\n",
    "            for col, result in split_results.items():\n",
    "                if result[\"evaluation\"] < best_evaluation:\n",
    "                    best_evaluation = result[\"evaluation\"]\n",
    "                    best_column = col\n",
    "                    best_candidate = result[\"candidate\"]\n",
    "        else:\n",
    "            for col, result in split_results.items():\n",
    "                if result[\"evaluation\"] > best_evaluation:\n",
    "                    best_evaluation = result[\"evaluation\"]\n",
    "                    best_column = col\n",
    "                    best_candidate = result[\"candidate\"]\n",
    "\n",
    "    return best_column, best_candidate, best_evaluation"
   ]
  },
  {
   "cell_type": "code",
   "execution_count": 57,
   "metadata": {},
   "outputs": [],
   "source": [
    "def subset_data(data, dependent_column):\n",
    "    dependent_variable = data[dependent_column]\n",
    "    independent_variables = data.drop(columns=[dependent_column])\n",
    "    return independent_variables, dependent_variable"
   ]
  },
  {
   "cell_type": "code",
   "execution_count": null,
   "metadata": {},
   "outputs": [],
   "source": [
    "def regression_tree(data, dependent_column, min_evaluation_gain, method = \"min. MSR\", max_splits = 100, random_feature_count = None):\n",
    "    \n",
    "    #initialize\n",
    "    optimize, best_evaluation = set_optimize_best_evaluation(method)\n",
    "    num_splits = 0\n",
    "    evaluation_gain = min_evaluation_gain\n",
    "    results = {}\n",
    "\n",
    "    independent_variables, dependent_variable = subset_data(data, dependent_column)\n",
    "\n",
    "    while num_splits < max_splits and evaluation_gain >= min_evaluation_gain:\n",
    "        #figure out which split to do\n",
    "        column, candidate, evaluation = RT_split(independent_variables, dependent_variable, random_feature_count)\n",
    "        \n",
    "        if optimize == \"min\":\n",
    "            evaluation_gain = best_evaluation/evaluation - 1\n",
    "        else:\n",
    "            evaluation_gain = evaluation/best_evaluation - 1\n",
    "\n",
    "        results[num_splits] = {\n",
    "            \"split_column\": column,\n",
    "            \"split_value\": candidate,\n",
    "            \"evaluation_score\": evaluation,\n",
    "            \"evaluation_gain\": evaluation_gain\n",
    "        }\n",
    "        \n",
    "        \n",
    "\n",
    "        #prepare for next iteration\n",
    "        best_evaluation = evaluation\n",
    "        num_splits += 1"
   ]
  },
  {
   "cell_type": "markdown",
   "metadata": {},
   "source": [
    "### Tree developement"
   ]
  },
  {
   "cell_type": "code",
   "execution_count": 59,
   "metadata": {},
   "outputs": [
    {
     "name": "stdout",
     "output_type": "stream",
     "text": [
      "DEBUG: feature_columns set to \n",
      " Index(['Bedrooms'], dtype='object') \n",
      "\n",
      "Warning! Not enough features! Deactivate random feature selection.\n",
      "DEBUG: candidate set to \n",
      " 3 \n",
      "\n",
      "DEBUG: candidate_evaluation set to \n",
      " 3947.916666666667 \n",
      "\n",
      "DEBUG: best_candidate set to \n",
      " 3 \n",
      "\n",
      "DEBUG: candidate set to \n",
      " 4 \n",
      "\n",
      "DEBUG: candidate_evaluation set to \n",
      " 2390.0 \n",
      "\n",
      "DEBUG: best_candidate set to \n",
      " 4 \n",
      "\n",
      "DEBUG: split_results[ Bedrooms ] set to \n",
      " {'candidate': 4, 'evaluation': 2390.0} \n",
      "\n",
      "('Bedrooms', 4, 2390.0)\n"
     ]
    }
   ],
   "source": [
    "data = pd.DataFrame({\n",
    "    \"Bedrooms\": [2, 3, 4, 3, 5, 4, 2, 3],\n",
    "    \"Square Footage\": [1500, 1800, 2200, 2000, 2500, 2300, 1600, 1900],\n",
    "    \"Age\": [20, 15, 10, 25, 5, 8, 30, 12],\n",
    "    \"Price\": [250, 300, 300, 320, 500, 450, 350, 350]\n",
    "})\n",
    "\n",
    "data2 = pd.DataFrame({\n",
    "    \"Bedrooms\": [2, 3, 4, 3, 5, 4, 2, 3],\n",
    "    \"Price\": [250, 300, 400, 320, 500, 450, 200, 350]\n",
    "})\n",
    "\n",
    "\n",
    "independent_variables, dependent_variable = subset_data(data2, \"Price\")\n",
    "#print(independent_variables)\n",
    "\n",
    "#print(\"Result of evaluate function:\", evaluate(subset1, subset2, method=\"min. MSR\"))\n",
    "#print(RT_univariate_split(subset1, subset2))\n",
    "print(RT_split(independent_variables, dependent_variable, random_feature_count = 2))\n"
   ]
  }
 ],
 "metadata": {
  "kernelspec": {
   "display_name": "base",
   "language": "python",
   "name": "python3"
  },
  "language_info": {
   "codemirror_mode": {
    "name": "ipython",
    "version": 3
   },
   "file_extension": ".py",
   "mimetype": "text/x-python",
   "name": "python",
   "nbconvert_exporter": "python",
   "pygments_lexer": "ipython3",
   "version": "3.11.7"
  }
 },
 "nbformat": 4,
 "nbformat_minor": 2
}
