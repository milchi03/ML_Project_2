{
 "cells": [
  {
   "cell_type": "markdown",
   "metadata": {},
   "source": [
    "# Random forst algorithmen based on regression trees - implementation"
   ]
  },
  {
   "cell_type": "code",
   "execution_count": 2,
   "metadata": {},
   "outputs": [],
   "source": [
    "import numpy as np\n",
    "import pandas as pd"
   ]
  },
  {
   "cell_type": "markdown",
   "metadata": {},
   "source": [
    "## Regression trees - implementation"
   ]
  },
  {
   "cell_type": "markdown",
   "metadata": {},
   "source": [
    "To dos:  \n",
    "Splitting:  \n",
    "- option for minimum sample size for split\n",
    "- option for minimum information gain for split\n",
    "- spit by minimum SSR of all possible splits\n",
    "- candidates for the root will be decided via min SSR\n",
    "\n",
    "Evaluation:  \n",
    "- average of values in note level"
   ]
  },
  {
   "cell_type": "markdown",
   "metadata": {},
   "source": [
    "### Helper functions"
   ]
  },
  {
   "cell_type": "markdown",
   "metadata": {},
   "source": [
    "This function evaluates the effectiveness of a splitting candidate by calculating a specified metric for two subsets of data based on the given method."
   ]
  },
  {
   "cell_type": "code",
   "execution_count": 13,
   "metadata": {},
   "outputs": [],
   "source": [
    "def evaluate(subset1, subset2, method):\n",
    "    if method == \"min. MSR\":\n",
    "        predictor1 = subset1.mean()\n",
    "        predictor2 = subset2.mean()\n",
    "        \n",
    "        SSR1 = ((subset1 - predictor1) ** 2).sum() \n",
    "        SSR2 = ((subset2 - predictor2) ** 2).sum()\n",
    "        MSR = (SSR1 + SSR2)/ (len(subset1) + len(subset2))\n",
    "        return MSR\n",
    "    else:\n",
    "        print(\"Error! \", method, \" is not a method!\")"
   ]
  },
  {
   "cell_type": "markdown",
   "metadata": {},
   "source": [
    "This function identifies the best splitting candidate for the first column of a dataset by evaluating the effectiveness of splits on the second column, based on a specified evaluation method and optimization criterion (e.g., minimizing MSR)."
   ]
  },
  {
   "cell_type": "code",
   "execution_count": null,
   "metadata": {},
   "outputs": [],
   "source": [
    "def RT_split(data, method= \"min. MSR\"):\n",
    "    \n",
    "    col1, col2 = data.iloc[:, 0], data.iloc[:, 1]\n",
    "    candidates = [x for x in col1.unique() if x != col1.min() and x != col1.max()] #only allow for actual splits so exclude min and max values as notes\n",
    "    if (method == \"min. MSR\"):\n",
    "        optimize = \"min\"\n",
    "\n",
    "    best_candidate = None\n",
    "    best_evaluation = 0\n",
    "    \n",
    "    for candidate in candidates:\n",
    "        subset1 = col2[col1 < candidate]\n",
    "        subset2 = col2[col1 >= candidate]\n",
    "        \n",
    "        candidate_evaluation = evaluate(subset1, subset2, method)\n",
    "\n",
    "        if optimize == \"min\":\n",
    "            if candidate_evaluation < best_evaluation:\n",
    "                best_evaluation = candidate_evaluation\n",
    "                best_candidate = candidate\n",
    "        else:\n",
    "            if candidate_evaluation > best_evaluation:\n",
    "                best_evaluation = candidate_evaluation\n",
    "                best_candidate = candidate\n",
    "\n",
    "    return best_candidate"
   ]
  },
  {
   "cell_type": "markdown",
   "metadata": {},
   "source": [
    "### Tree developement"
   ]
  },
  {
   "cell_type": "code",
   "execution_count": null,
   "metadata": {},
   "outputs": [
    {
     "name": "stdout",
     "output_type": "stream",
     "text": [
      "   Bedrooms  Price\n",
      "0         2    250\n",
      "1         3    300\n",
      "2         4    400\n",
      "3         3    320\n",
      "4         5    500\n",
      "5         4    450\n",
      "6         2    200\n",
      "7         3    350 \n",
      "\n",
      "Result of evaluate function: 0.09523809523809523\n"
     ]
    }
   ],
   "source": [
    "data = pd.DataFrame({\n",
    "    \"Bedrooms\": [2, 3, 4, 3, 5, 4, 2, 3],\n",
    "    \"Square Footage\": [1500, 1800, 2200, 2000, 2500, 2300, 1600, 1900],\n",
    "    \"Age\": [20, 15, 10, 25, 5, 8, 30, 12],\n",
    "    \"Price\": [250, 300, 400, 320, 500, 450, 200, 350]\n",
    "})\n",
    "\n",
    "data2 = pd.DataFrame({\n",
    "    \"Bedrooms\": [2, 3, 4, 3, 5, 4, 2, 3],\n",
    "    \"Price\": [250, 300, 400, 320, 500, 450, 200, 350]\n",
    "})\n",
    "\n",
    "#print(data, \"\\n\")\n",
    "print(data2, \"\\n\")\n",
    "\n",
    "subset1 = pd.Series([1, 1, 2])\n",
    "subset2 = pd.Series([4, 4, 4, 4])\n",
    "\n",
    "result = evaluate(subset1, subset2, method=\"min. MSR\")\n",
    "print(\"Result of evaluate function:\", result)"
   ]
  }
 ],
 "metadata": {
  "kernelspec": {
   "display_name": "base",
   "language": "python",
   "name": "python3"
  },
  "language_info": {
   "codemirror_mode": {
    "name": "ipython",
    "version": 3
   },
   "file_extension": ".py",
   "mimetype": "text/x-python",
   "name": "python",
   "nbconvert_exporter": "python",
   "pygments_lexer": "ipython3",
   "version": "3.11.7"
  }
 },
 "nbformat": 4,
 "nbformat_minor": 2
}
