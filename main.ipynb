{
 "cells": [
  {
   "cell_type": "markdown",
   "metadata": {},
   "source": [
    "# Random forst algorithmen based on regression trees - implementation"
   ]
  },
  {
   "cell_type": "code",
   "execution_count": 27,
   "metadata": {},
   "outputs": [],
   "source": [
    "import numpy as np\n",
    "import random\n",
    "import pandas as pd"
   ]
  },
  {
   "cell_type": "markdown",
   "metadata": {},
   "source": [
    "## Regression trees - implementation"
   ]
  },
  {
   "cell_type": "markdown",
   "metadata": {},
   "source": [
    "To dos:  \n",
    "Splitting:  \n",
    "- option for minimum sample size for split\n",
    "- option for minimum information gain for split\n",
    "- spit by minimum SSR of all possible splits\n",
    "- candidates for the root will be decided via min SSR\n",
    "\n",
    "Evaluation:  \n",
    "- average of values in note level"
   ]
  },
  {
   "cell_type": "markdown",
   "metadata": {},
   "source": [
    "### Helper functions"
   ]
  },
  {
   "cell_type": "markdown",
   "metadata": {},
   "source": [
    "This function evaluates the effectiveness of a splitting candidate by calculating a specified metric for two subsets of data based on the given method."
   ]
  },
  {
   "cell_type": "code",
   "execution_count": 28,
   "metadata": {},
   "outputs": [],
   "source": [
    "def evaluate(subset1, subset2, method):\n",
    "    if method == \"min. MSR\":\n",
    "        predictor1 = subset1.mean()\n",
    "        predictor2 = subset2.mean()\n",
    "        \n",
    "        SSR1 = ((subset1 - predictor1) ** 2).sum() \n",
    "        SSR2 = ((subset2 - predictor2) ** 2).sum()\n",
    "        MSR = (SSR1 + SSR2)/ (len(subset1) + len(subset2))\n",
    "        return MSR\n",
    "    else:\n",
    "        print(\"Error! \", method, \" is not a method!\")"
   ]
  },
  {
   "cell_type": "markdown",
   "metadata": {},
   "source": [
    "This function identifies the best splitting candidate for the first column of a dataset by evaluating the effectiveness of splits on the second column, based on a specified evaluation method and optimization criterion (e.g., minimizing MSR)."
   ]
  },
  {
   "cell_type": "code",
   "execution_count": 29,
   "metadata": {},
   "outputs": [],
   "source": [
    "def set_optimize_best_evaluation(method):\n",
    "    if (method == \"min. MSR\"):\n",
    "        optimize = \"min\"\n",
    "        best_evaluation = float(\"inf\")\n",
    "\n",
    "    elif (method == \"???\"):\n",
    "        optimize = \"max\"\n",
    "        best_evaluation = float(\"-inf\")\n",
    "        \n",
    "    else:\n",
    "        print(\"ERROR! \", method, \" is not a implemented method!\")\n",
    "        method = \"min. MSR\"\n",
    "        optimize = \"min\"\n",
    "        best_evaluation = float(\"inf\")\n",
    "    \n",
    "    return optimize, best_evaluation"
   ]
  },
  {
   "cell_type": "code",
   "execution_count": 30,
   "metadata": {},
   "outputs": [],
   "source": [
    "def RT_univariate_split(independent_variable, dependent_variable, method = \"min. MSR\"):\n",
    "    \n",
    "    print(\"DEBUG: type(independent_variable) is \\n\", type(independent_variable), \"\\n\")\n",
    "\n",
    "    if isinstance(independent_variable, pd.DataFrame):\n",
    "        independent_variable = independent_variable.iloc[:, 0]\n",
    "        #print(\"DEBUG: type(independent_variable) is \\n\", type(independent_variable), \"\\n\")\n",
    "    \n",
    "    candidates = [\n",
    "        x for x in independent_variable.unique() if x != independent_variable.min() and x != independent_variable.max()\n",
    "    ]\n",
    "    ##print(\"DEBUG: candidates is \\n\", candidates, \"\\n\")\n",
    "    \n",
    "\n",
    "    optimize, best_evaluation = set_optimize_best_evaluation(method)\n",
    "\n",
    "    best_candidate = None\n",
    "    \n",
    "    for candidate in candidates:\n",
    "        ##print(\"DEBUG: candidate set to \\n\", candidate, \"\\n\")\n",
    "\n",
    "        subset1 = dependent_variable[independent_variable < candidate]\n",
    "        subset2 = dependent_variable[independent_variable >= candidate]\n",
    "        #print(\"DEBUG: subset1 set to \\n\", subset1, \"\\n\")\n",
    "        #print(\"DEBUG: subset2 set to \\n\", subset2, \"\\n\")\n",
    "        #print(\"DEBUG: type(subset1) set to \\n\", type(subset1), \"\\n\")\n",
    "        #print(\"DEBUG: type(subset2) set to \\n\", type(subset2), \"\\n\")\n",
    "\n",
    "        subset1 = subset1.iloc[:, 0]\n",
    "        subset2 = subset2.iloc[:, 0]\n",
    "        #print(\"DEBUG: subset1 set to \\n\", subset1, \"\\n\")\n",
    "        #print(\"DEBUG: subset2 set to \\n\", subset2, \"\\n\")\n",
    "        #print(\"DEBUG: type(subset1) set to \\n\", type(subset1), \"\\n\")\n",
    "        #print(\"DEBUG: type(subset2) set to \\n\", type(subset2), \"\\n\")\n",
    "\n",
    "        min_split_size = min(len(subset1), len(subset2))\n",
    "\n",
    "        candidate_evaluation = evaluate(subset1, subset2, method)\n",
    "        ##print(\"DEBUG: candidate_evaluation set to \\n\", candidate_evaluation, \"\\n\")\n",
    "\n",
    "        if optimize == \"min\":\n",
    "\n",
    "            ##print(\"DEBUG: best_evaluation is \\n\", best_evaluation, \"\\n\")\n",
    "            if candidate_evaluation < best_evaluation:\n",
    "                best_evaluation = candidate_evaluation\n",
    "                best_candidate = candidate\n",
    "                ##print(\"DEBUG: best_candidate set to \\n\", best_candidate, \"\\n\")\n",
    "        else:\n",
    "            if candidate_evaluation > best_evaluation:\n",
    "                best_evaluation = candidate_evaluation\n",
    "                best_candidate = candidate\n",
    "                ##print(\"DEBUG: best_candidate set to \\n\", best_candidate, \"\\n\")\n",
    "\n",
    "    return best_candidate, best_evaluation, min_split_size"
   ]
  },
  {
   "cell_type": "code",
   "execution_count": 31,
   "metadata": {},
   "outputs": [],
   "source": [
    "def RT_split(independent_variables, dependent_variable, method = \"min. MSR\", random_feature_count = None):\n",
    "    \n",
    "    optimize, best_evaluation = set_optimize_best_evaluation(method)\n",
    "    best_column = None\n",
    "    best_candidate = None\n",
    "\n",
    "    split_results = {}\n",
    "\n",
    "    feature_columns = independent_variables.columns\n",
    "    ##print(\"DEBUG: feature_columns set to \\n\", feature_columns, \"\\n\")\n",
    "    if random_feature_count:\n",
    "        if random_feature_count >= len(feature_columns):\n",
    "            #print(\"Warning! Not enough features! Deactivate random feature selection.\")\n",
    "            random_feature_count = None\n",
    "        elif not isinstance(random_feature_count, int) or random_feature_count < 1:\n",
    "            #print(\"DEBUG: isinstance(random_feature_count, int) is set to \\n\", isinstance(random_feature_count, int), \"\\n\")\n",
    "            #print(\"DEBUG: random_feature_count is set to \\n\", random_feature_count, \"\\n\")\n",
    "            #print(\"Warning! random_feature_count must be int and >= 1! Deactivate random feature selection.\")\n",
    "            random_feature_count = None\n",
    "\n",
    "    if random_feature_count:\n",
    "        feature_columns = random.sample(list(feature_columns), random_feature_count)\n",
    "        #print(\"DEBUG: feature_columns set to \\n\", feature_columns, \"\\n\")\n",
    "\n",
    "    for col in feature_columns:\n",
    "        \n",
    "        candidate, evaluation, min_split_size = RT_univariate_split(independent_variables[col], dependent_variable, method)\n",
    "        split_results[col] = {\"candidate\": candidate, \"evaluation\": evaluation}\n",
    "        ##print(\"DEBUG: split_results[\", col, \"] set to \\n\", split_results[col], \"\\n\")\n",
    "\n",
    "        if optimize == \"min\":\n",
    "            for col, result in split_results.items():\n",
    "                if result[\"evaluation\"] < best_evaluation:\n",
    "                    best_evaluation = result[\"evaluation\"]\n",
    "                    best_column = col\n",
    "                    best_candidate = result[\"candidate\"]\n",
    "        else:\n",
    "            for col, result in split_results.items():\n",
    "                if result[\"evaluation\"] > best_evaluation:\n",
    "                    best_evaluation = result[\"evaluation\"]\n",
    "                    best_column = col\n",
    "                    best_candidate = result[\"candidate\"]\n",
    "\n",
    "    return best_column, best_candidate, best_evaluation, min_split_size"
   ]
  },
  {
   "cell_type": "code",
   "execution_count": 32,
   "metadata": {},
   "outputs": [],
   "source": [
    "def subset_data(data, dependent_column):\n",
    "    dependent_variable = data[[dependent_column]]\n",
    "    independent_variables = data.drop(columns=[dependent_column])\n",
    "    return independent_variables, dependent_variable"
   ]
  },
  {
   "cell_type": "code",
   "execution_count": 33,
   "metadata": {},
   "outputs": [],
   "source": [
    "def RT_recursion(independent_variables, dependent_variable, #data inputs\n",
    "                    method=\"min. MSR\", #evaluation specification\n",
    "                    random_feature_count=None, bootstrap_count=None, #sampling methods\n",
    "                    min_evaluation_gain=0, sample_size_limit=0, #split stopping condition\n",
    "                    max_depth=20, max_splits = 100, #universal stopping conditions\n",
    "                    depth = 0, num_splits = 0 #recursion passes\n",
    "):\n",
    "    # Initialize\n",
    "    optimize, best_evaluation = set_optimize_best_evaluation(method)\n",
    "    evaluation_gain = min_evaluation_gain\n",
    "\n",
    "    if depth > max_depth or num_splits > max_splits:\n",
    "          return [(column, candidate)]\n",
    "\n",
    "    #Determine the best split\n",
    "    column, candidate, evaluation, min_split_size = RT_split(independent_variables, dependent_variable, method, random_feature_count)\n",
    "    \n",
    "    #subset\n",
    "    indep_subset_left = independent_variables[independent_variables[column] < candidate]\n",
    "    indep_subset_right = independent_variables[independent_variables[column] >= candidate]\n",
    "    dep_subset_left = dependent_variable[independent_variables[column] < candidate]\n",
    "    dep_subset_right = dependent_variable[independent_variables[column] >= candidate]\n",
    "    \n",
    "    depth += 1\n",
    "    num_splits += 1\n",
    "    \n",
    "    #from here on everything goes to shit\n",
    "    left_results = RT_recursion(indep_subset_left, dep_subset_left, #data inputs\n",
    "        method, #evaluation specification\n",
    "        random_feature_count, bootstrap_count, #sampling methods\n",
    "        min_evaluation_gain, sample_size_limit, #split skipping criterion\n",
    "        max_depth, max_splits, #stopping criterions\n",
    "        depth, num_splits #recursion passes\n",
    "        )\n",
    "    \n",
    "    right_results = RT_recursion(indep_subset_right, dep_subset_right, #data inputs\n",
    "        method, #evaluation specification\n",
    "        random_feature_count, bootstrap_count, #sampling methods\n",
    "        min_evaluation_gain, sample_size_limit, #split skipping criterion\n",
    "        max_depth, max_splits, #stopping criterions\n",
    "        depth, num_splits #recursion passes\n",
    "        )\n",
    "\n",
    "    return [(column, candidate)].append((left_results, right_results))"
   ]
  },
  {
   "cell_type": "markdown",
   "metadata": {},
   "source": [
    "### Tree developement"
   ]
  },
  {
   "cell_type": "code",
   "execution_count": 35,
   "metadata": {},
   "outputs": [
    {
     "name": "stdout",
     "output_type": "stream",
     "text": [
      "DEBUG: type(independent_variable) is \n",
      " <class 'pandas.core.series.Series'> \n",
      "\n",
      "DEBUG: type(independent_variable) is \n",
      " <class 'pandas.core.series.Series'> \n",
      "\n",
      "DEBUG: type(independent_variable) is \n",
      " <class 'pandas.core.series.Series'> \n",
      "\n",
      "DEBUG: type(independent_variable) is \n",
      " <class 'pandas.core.series.Series'> \n",
      "\n",
      "DEBUG: type(independent_variable) is \n",
      " <class 'pandas.core.series.Series'> \n",
      "\n",
      "DEBUG: type(independent_variable) is \n",
      " <class 'pandas.core.series.Series'> \n",
      "\n",
      "DEBUG: type(independent_variable) is \n",
      " <class 'pandas.core.series.Series'> \n",
      "\n"
     ]
    },
    {
     "ename": "UnboundLocalError",
     "evalue": "cannot access local variable 'min_split_size' where it is not associated with a value",
     "output_type": "error",
     "traceback": [
      "\u001b[1;31m---------------------------------------------------------------------------\u001b[0m",
      "\u001b[1;31mUnboundLocalError\u001b[0m                         Traceback (most recent call last)",
      "Cell \u001b[1;32mIn[35], line 19\u001b[0m\n\u001b[0;32m     13\u001b[0m independent_variables, dependent_variable \u001b[38;5;241m=\u001b[39m subset_data(data, \u001b[38;5;124m\"\u001b[39m\u001b[38;5;124mPrice\u001b[39m\u001b[38;5;124m\"\u001b[39m)\n\u001b[0;32m     14\u001b[0m \u001b[38;5;66;03m#print(independent_variables)\u001b[39;00m\n\u001b[0;32m     15\u001b[0m \n\u001b[0;32m     16\u001b[0m \u001b[38;5;66;03m#print(\"Result of evaluate function:\", evaluate(subset1, subset2, method=\"min. MSR\"))\u001b[39;00m\n\u001b[0;32m     17\u001b[0m \u001b[38;5;66;03m#print(RT_univariate_split(independent_variables, dependent_variable))\u001b[39;00m\n\u001b[0;32m     18\u001b[0m \u001b[38;5;66;03m#print(RT_split(independent_variables, dependent_variable, random_feature_count = 2))\u001b[39;00m\n\u001b[1;32m---> 19\u001b[0m \u001b[38;5;28mprint\u001b[39m(RT_recursion(independent_variables, dependent_variable, min_evaluation_gain\u001b[38;5;241m=\u001b[39m\u001b[38;5;241m0.1\u001b[39m))\n",
      "Cell \u001b[1;32mIn[33], line 28\u001b[0m, in \u001b[0;36mRT_recursion\u001b[1;34m(independent_variables, dependent_variable, method, random_feature_count, bootstrap_count, min_evaluation_gain, sample_size_limit, max_depth, max_splits, depth, num_splits)\u001b[0m\n\u001b[0;32m     25\u001b[0m num_splits \u001b[38;5;241m+\u001b[39m\u001b[38;5;241m=\u001b[39m \u001b[38;5;241m1\u001b[39m\n\u001b[0;32m     27\u001b[0m \u001b[38;5;66;03m#from here on everything goes to shit\u001b[39;00m\n\u001b[1;32m---> 28\u001b[0m left_results \u001b[38;5;241m=\u001b[39m RT_recursion(indep_subset_left, dep_subset_left, \u001b[38;5;66;03m#data inputs\u001b[39;00m\n\u001b[0;32m     29\u001b[0m     method, \u001b[38;5;66;03m#evaluation specification\u001b[39;00m\n\u001b[0;32m     30\u001b[0m     random_feature_count, bootstrap_count, \u001b[38;5;66;03m#sampling methods\u001b[39;00m\n\u001b[0;32m     31\u001b[0m     min_evaluation_gain, sample_size_limit, \u001b[38;5;66;03m#split skipping criterion\u001b[39;00m\n\u001b[0;32m     32\u001b[0m     max_depth, max_splits, \u001b[38;5;66;03m#stopping criterions\u001b[39;00m\n\u001b[0;32m     33\u001b[0m     depth, num_splits \u001b[38;5;66;03m#recursion passes\u001b[39;00m\n\u001b[0;32m     34\u001b[0m     )\n\u001b[0;32m     36\u001b[0m right_results \u001b[38;5;241m=\u001b[39m RT_recursion(indep_subset_right, dep_subset_right, \u001b[38;5;66;03m#data inputs\u001b[39;00m\n\u001b[0;32m     37\u001b[0m     method, \u001b[38;5;66;03m#evaluation specification\u001b[39;00m\n\u001b[0;32m     38\u001b[0m     random_feature_count, bootstrap_count, \u001b[38;5;66;03m#sampling methods\u001b[39;00m\n\u001b[1;32m   (...)\u001b[0m\n\u001b[0;32m     41\u001b[0m     depth, num_splits \u001b[38;5;66;03m#recursion passes\u001b[39;00m\n\u001b[0;32m     42\u001b[0m     )\n\u001b[0;32m     44\u001b[0m \u001b[38;5;28;01mreturn\u001b[39;00m [(column, candidate)]\u001b[38;5;241m.\u001b[39mappend((left_results, right_results))\n",
      "Cell \u001b[1;32mIn[33], line 28\u001b[0m, in \u001b[0;36mRT_recursion\u001b[1;34m(independent_variables, dependent_variable, method, random_feature_count, bootstrap_count, min_evaluation_gain, sample_size_limit, max_depth, max_splits, depth, num_splits)\u001b[0m\n\u001b[0;32m     25\u001b[0m num_splits \u001b[38;5;241m+\u001b[39m\u001b[38;5;241m=\u001b[39m \u001b[38;5;241m1\u001b[39m\n\u001b[0;32m     27\u001b[0m \u001b[38;5;66;03m#from here on everything goes to shit\u001b[39;00m\n\u001b[1;32m---> 28\u001b[0m left_results \u001b[38;5;241m=\u001b[39m RT_recursion(indep_subset_left, dep_subset_left, \u001b[38;5;66;03m#data inputs\u001b[39;00m\n\u001b[0;32m     29\u001b[0m     method, \u001b[38;5;66;03m#evaluation specification\u001b[39;00m\n\u001b[0;32m     30\u001b[0m     random_feature_count, bootstrap_count, \u001b[38;5;66;03m#sampling methods\u001b[39;00m\n\u001b[0;32m     31\u001b[0m     min_evaluation_gain, sample_size_limit, \u001b[38;5;66;03m#split skipping criterion\u001b[39;00m\n\u001b[0;32m     32\u001b[0m     max_depth, max_splits, \u001b[38;5;66;03m#stopping criterions\u001b[39;00m\n\u001b[0;32m     33\u001b[0m     depth, num_splits \u001b[38;5;66;03m#recursion passes\u001b[39;00m\n\u001b[0;32m     34\u001b[0m     )\n\u001b[0;32m     36\u001b[0m right_results \u001b[38;5;241m=\u001b[39m RT_recursion(indep_subset_right, dep_subset_right, \u001b[38;5;66;03m#data inputs\u001b[39;00m\n\u001b[0;32m     37\u001b[0m     method, \u001b[38;5;66;03m#evaluation specification\u001b[39;00m\n\u001b[0;32m     38\u001b[0m     random_feature_count, bootstrap_count, \u001b[38;5;66;03m#sampling methods\u001b[39;00m\n\u001b[1;32m   (...)\u001b[0m\n\u001b[0;32m     41\u001b[0m     depth, num_splits \u001b[38;5;66;03m#recursion passes\u001b[39;00m\n\u001b[0;32m     42\u001b[0m     )\n\u001b[0;32m     44\u001b[0m \u001b[38;5;28;01mreturn\u001b[39;00m [(column, candidate)]\u001b[38;5;241m.\u001b[39mappend((left_results, right_results))\n",
      "Cell \u001b[1;32mIn[33], line 16\u001b[0m, in \u001b[0;36mRT_recursion\u001b[1;34m(independent_variables, dependent_variable, method, random_feature_count, bootstrap_count, min_evaluation_gain, sample_size_limit, max_depth, max_splits, depth, num_splits)\u001b[0m\n\u001b[0;32m     13\u001b[0m       \u001b[38;5;28;01mreturn\u001b[39;00m [(column, candidate)]\n\u001b[0;32m     15\u001b[0m \u001b[38;5;66;03m#Determine the best split\u001b[39;00m\n\u001b[1;32m---> 16\u001b[0m column, candidate, evaluation, min_split_size \u001b[38;5;241m=\u001b[39m RT_split(independent_variables, dependent_variable, method, random_feature_count)\n\u001b[0;32m     18\u001b[0m \u001b[38;5;66;03m#subset\u001b[39;00m\n\u001b[0;32m     19\u001b[0m indep_subset_left \u001b[38;5;241m=\u001b[39m independent_variables[independent_variables[column] \u001b[38;5;241m<\u001b[39m candidate]\n",
      "Cell \u001b[1;32mIn[31], line 27\u001b[0m, in \u001b[0;36mRT_split\u001b[1;34m(independent_variables, dependent_variable, method, random_feature_count)\u001b[0m\n\u001b[0;32m     23\u001b[0m     \u001b[38;5;66;03m#print(\"DEBUG: feature_columns set to \\n\", feature_columns, \"\\n\")\u001b[39;00m\n\u001b[0;32m     25\u001b[0m \u001b[38;5;28;01mfor\u001b[39;00m col \u001b[38;5;129;01min\u001b[39;00m feature_columns:\n\u001b[1;32m---> 27\u001b[0m     candidate, evaluation, min_split_size \u001b[38;5;241m=\u001b[39m RT_univariate_split(independent_variables[col], dependent_variable, method)\n\u001b[0;32m     28\u001b[0m     split_results[col] \u001b[38;5;241m=\u001b[39m {\u001b[38;5;124m\"\u001b[39m\u001b[38;5;124mcandidate\u001b[39m\u001b[38;5;124m\"\u001b[39m: candidate, \u001b[38;5;124m\"\u001b[39m\u001b[38;5;124mevaluation\u001b[39m\u001b[38;5;124m\"\u001b[39m: evaluation}\n\u001b[0;32m     29\u001b[0m     \u001b[38;5;66;03m##print(\"DEBUG: split_results[\", col, \"] set to \\n\", split_results[col], \"\\n\")\u001b[39;00m\n",
      "Cell \u001b[1;32mIn[30], line 54\u001b[0m, in \u001b[0;36mRT_univariate_split\u001b[1;34m(independent_variable, dependent_variable, method)\u001b[0m\n\u001b[0;32m     51\u001b[0m             best_candidate \u001b[38;5;241m=\u001b[39m candidate\n\u001b[0;32m     52\u001b[0m             \u001b[38;5;66;03m##print(\"DEBUG: best_candidate set to \\n\", best_candidate, \"\\n\")\u001b[39;00m\n\u001b[1;32m---> 54\u001b[0m \u001b[38;5;28;01mreturn\u001b[39;00m best_candidate, best_evaluation, min_split_size\n",
      "\u001b[1;31mUnboundLocalError\u001b[0m: cannot access local variable 'min_split_size' where it is not associated with a value"
     ]
    }
   ],
   "source": [
    "data = pd.DataFrame({\n",
    "    \"Bedrooms\": [2, 3, 4, 5, 3, 4, 2, 3],\n",
    "    \"Square Footage\": [1500, 1800, 2200, 2000, 2500, 2300, 1600, 1900],\n",
    "    \"Age\": [20, 15, 25, 10, 5, 8, 30, 12],\n",
    "    \"Price\": [250, 300, 300, 320, 500, 450, 350, 350]\n",
    "})\n",
    "\n",
    "data2 = pd.DataFrame({\n",
    "    \"Bedrooms\": [2, 3, 4, 3, 5, 4, 2, 3],\n",
    "    \"Price\": [250, 300, 400, 320, 500, 450, 200, 350]\n",
    "})\n",
    "\n",
    "independent_variables, dependent_variable = subset_data(data, \"Price\")\n",
    "#print(independent_variables)\n",
    "\n",
    "#print(\"Result of evaluate function:\", evaluate(subset1, subset2, method=\"min. MSR\"))\n",
    "#print(RT_univariate_split(independent_variables, dependent_variable))\n",
    "#print(RT_split(independent_variables, dependent_variable, random_feature_count = 2))\n",
    "print(RT_recursion(independent_variables, dependent_variable, min_evaluation_gain=0.1))\n"
   ]
  }
 ],
 "metadata": {
  "kernelspec": {
   "display_name": "base",
   "language": "python",
   "name": "python3"
  },
  "language_info": {
   "codemirror_mode": {
    "name": "ipython",
    "version": 3
   },
   "file_extension": ".py",
   "mimetype": "text/x-python",
   "name": "python",
   "nbconvert_exporter": "python",
   "pygments_lexer": "ipython3",
   "version": "3.11.7"
  }
 },
 "nbformat": 4,
 "nbformat_minor": 2
}
