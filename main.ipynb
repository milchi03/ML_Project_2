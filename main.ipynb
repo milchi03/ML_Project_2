{
 "cells": [
  {
   "cell_type": "markdown",
   "metadata": {},
   "source": [
    "# Random forst algorithmen based on regression trees - implementation"
   ]
  },
  {
   "cell_type": "code",
   "execution_count": null,
   "metadata": {},
   "outputs": [],
   "source": [
    "import numpy as np\n",
    "import random\n",
    "import pandas as pd"
   ]
  },
  {
   "cell_type": "markdown",
   "metadata": {},
   "source": [
    "## Regression trees - implementation"
   ]
  },
  {
   "cell_type": "markdown",
   "metadata": {},
   "source": [
    "To dos:  \n",
    "Splitting:  \n",
    "- option for minimum sample size for split\n",
    "- option for minimum information gain for split\n",
    "- spit by minimum SSR of all possible splits\n",
    "- candidates for the root will be decided via min SSR\n",
    "\n",
    "Evaluation:  \n",
    "- average of values in note level"
   ]
  },
  {
   "cell_type": "markdown",
   "metadata": {},
   "source": [
    "### Helper functions"
   ]
  },
  {
   "cell_type": "markdown",
   "metadata": {},
   "source": [
    "This function evaluates the effectiveness of a splitting candidate by calculating a specified metric for two subsets of data based on the given method."
   ]
  },
  {
   "cell_type": "code",
   "execution_count": null,
   "metadata": {},
   "outputs": [],
   "source": [
    "def evaluate(subset1, subset2, method):\n",
    "    if method == \"min. MSR\":\n",
    "        predictor1 = subset1.mean()\n",
    "        predictor2 = subset2.mean()\n",
    "        \n",
    "        SSR1 = ((subset1 - predictor1) ** 2).sum() \n",
    "        SSR2 = ((subset2 - predictor2) ** 2).sum()\n",
    "        MSR = (SSR1 + SSR2)/ (len(subset1) + len(subset2))\n",
    "        return MSR\n",
    "    else:\n",
    "        print(\"Error! \", method, \" is not a method!\")"
   ]
  },
  {
   "cell_type": "markdown",
   "metadata": {},
   "source": [
    "This function identifies the best splitting candidate for the first column of a dataset by evaluating the effectiveness of splits on the second column, based on a specified evaluation method and optimization criterion (e.g., minimizing MSR)."
   ]
  },
  {
   "cell_type": "code",
   "execution_count": null,
   "metadata": {},
   "outputs": [],
   "source": [
    "def set_optimize_best_evaluation(method):\n",
    "    if (method == \"min. MSR\"):\n",
    "        optimize = \"min\"\n",
    "        best_evaluation = float(\"inf\")\n",
    "\n",
    "    elif (method == \"???\"):\n",
    "        optimize = \"max\"\n",
    "        best_evaluation = float(\"-inf\")\n",
    "        \n",
    "    else:\n",
    "        print(\"ERROR! \", method, \" is not a implemented method!\")\n",
    "        method = \"min. MSR\"\n",
    "        optimize = \"min\"\n",
    "        best_evaluation = float(\"inf\")\n",
    "    \n",
    "    return optimize, best_evaluation"
   ]
  },
  {
   "cell_type": "code",
   "execution_count": null,
   "metadata": {},
   "outputs": [],
   "source": [
    "def RT_univariate_split(independent_variable, dependent_variable, method = \"min. MSR\"):\n",
    "    \n",
    "    #print(\"DEBUG: type(independent_variable) is \\n\", type(independent_variable), \"\\n\")\n",
    "\n",
    "    if isinstance(independent_variable, pd.DataFrame):\n",
    "        independent_variable = independent_variable.iloc[:, 0]\n",
    "        #print(\"DEBUG: type(independent_variable) is \\n\", type(independent_variable), \"\\n\")\n",
    "    \n",
    "    candidates = [\n",
    "        x for x in independent_variable.unique() if x != independent_variable.min() and x != independent_variable.max()\n",
    "    ]\n",
    "    ##print(\"DEBUG: candidates is \\n\", candidates, \"\\n\")\n",
    "    \n",
    "\n",
    "    optimize, best_evaluation = set_optimize_best_evaluation(method)\n",
    "\n",
    "    best_candidate = None\n",
    "    \n",
    "    for candidate in candidates:\n",
    "        ##print(\"DEBUG: candidate set to \\n\", candidate, \"\\n\")\n",
    "\n",
    "        subset1 = dependent_variable[independent_variable < candidate]\n",
    "        subset2 = dependent_variable[independent_variable >= candidate]\n",
    "        #print(\"DEBUG: subset1 set to \\n\", subset1, \"\\n\")\n",
    "        #print(\"DEBUG: subset2 set to \\n\", subset2, \"\\n\")\n",
    "        #print(\"DEBUG: type(subset1) set to \\n\", type(subset1), \"\\n\")\n",
    "        #print(\"DEBUG: type(subset2) set to \\n\", type(subset2), \"\\n\")\n",
    "\n",
    "        subset1 = subset1.iloc[:, 0]\n",
    "        subset2 = subset2.iloc[:, 0]\n",
    "        #print(\"DEBUG: subset1 set to \\n\", subset1, \"\\n\")\n",
    "        #print(\"DEBUG: subset2 set to \\n\", subset2, \"\\n\")\n",
    "        #print(\"DEBUG: type(subset1) set to \\n\", type(subset1), \"\\n\")\n",
    "        #print(\"DEBUG: type(subset2) set to \\n\", type(subset2), \"\\n\")\n",
    "\n",
    "        min_split_size = min(len(subset1.iloc[:, 0]), len(subset2.iloc[:, 0]))\n",
    "\n",
    "        candidate_evaluation = evaluate(subset1, subset2, method)\n",
    "        ##print(\"DEBUG: candidate_evaluation set to \\n\", candidate_evaluation, \"\\n\")\n",
    "\n",
    "        if optimize == \"min\":\n",
    "\n",
    "            ##print(\"DEBUG: best_evaluation is \\n\", best_evaluation, \"\\n\")\n",
    "            if candidate_evaluation < best_evaluation:\n",
    "                best_evaluation = candidate_evaluation\n",
    "                best_candidate = candidate\n",
    "                ##print(\"DEBUG: best_candidate set to \\n\", best_candidate, \"\\n\")\n",
    "        else:\n",
    "            if candidate_evaluation > best_evaluation:\n",
    "                best_evaluation = candidate_evaluation\n",
    "                best_candidate = candidate\n",
    "                ##print(\"DEBUG: best_candidate set to \\n\", best_candidate, \"\\n\")\n",
    "\n",
    "    return best_candidate, best_evaluation, min_split_size"
   ]
  },
  {
   "cell_type": "code",
   "execution_count": null,
   "metadata": {},
   "outputs": [],
   "source": [
    "def RT_split(independent_variables, dependent_variable, method = \"min. MSR\", random_feature_count = None):\n",
    "    \n",
    "    optimize, best_evaluation = set_optimize_best_evaluation(method)\n",
    "    best_column = None\n",
    "    best_candidate = None\n",
    "\n",
    "    split_results = {}\n",
    "\n",
    "    feature_columns = independent_variables.columns\n",
    "    ##print(\"DEBUG: feature_columns set to \\n\", feature_columns, \"\\n\")\n",
    "    if random_feature_count:\n",
    "        if random_feature_count >= len(feature_columns):\n",
    "            #print(\"Warning! Not enough features! Deactivate random feature selection.\")\n",
    "            random_feature_count = None\n",
    "        elif not isinstance(random_feature_count, int) or random_feature_count < 1:\n",
    "            #print(\"DEBUG: isinstance(random_feature_count, int) is set to \\n\", isinstance(random_feature_count, int), \"\\n\")\n",
    "            #print(\"DEBUG: random_feature_count is set to \\n\", random_feature_count, \"\\n\")\n",
    "            #print(\"Warning! random_feature_count must be int and >= 1! Deactivate random feature selection.\")\n",
    "            random_feature_count = None\n",
    "\n",
    "    if random_feature_count:\n",
    "        feature_columns = random.sample(list(feature_columns), random_feature_count)\n",
    "        #print(\"DEBUG: feature_columns set to \\n\", feature_columns, \"\\n\")\n",
    "\n",
    "    for col in feature_columns:\n",
    "        \n",
    "        candidate, evaluation, min_split_size = RT_univariate_split(independent_variables[col], dependent_variable, method)\n",
    "        split_results[col] = {\"candidate\": candidate, \"evaluation\": evaluation}\n",
    "        ##print(\"DEBUG: split_results[\", col, \"] set to \\n\", split_results[col], \"\\n\")\n",
    "\n",
    "        if optimize == \"min\":\n",
    "            for col, result in split_results.items():\n",
    "                if result[\"evaluation\"] < best_evaluation:\n",
    "                    best_evaluation = result[\"evaluation\"]\n",
    "                    best_column = col\n",
    "                    best_candidate = result[\"candidate\"]\n",
    "        else:\n",
    "            for col, result in split_results.items():\n",
    "                if result[\"evaluation\"] > best_evaluation:\n",
    "                    best_evaluation = result[\"evaluation\"]\n",
    "                    best_column = col\n",
    "                    best_candidate = result[\"candidate\"]\n",
    "\n",
    "    return best_column, best_candidate, best_evaluation, min_split_size"
   ]
  },
  {
   "cell_type": "code",
   "execution_count": null,
   "metadata": {},
   "outputs": [],
   "source": [
    "def subset_data(data, dependent_column):\n",
    "    dependent_variable = data[[dependent_column]]\n",
    "    independent_variables = data.drop(columns=[dependent_column])\n",
    "    return independent_variables, dependent_variable"
   ]
  },
  {
   "cell_type": "code",
   "execution_count": null,
   "metadata": {},
   "outputs": [],
   "source": [
    "def RT_recursion(independent_variables, dependent_variable, #data inputs\n",
    "                    method=\"min. MSR\", #evaluation specification\n",
    "                    random_feature_count=None, bootstrap_count=None, #sampling methods\n",
    "                    min_evaluation_gain=0, sample_size_limit=0, #split stopping condition\n",
    "                    max_depth=20, max_splits = 100, #universal stopping conditions\n",
    "                    depth = 0, num_splits = 0 #recursion passes\n",
    "):\n",
    "    # Initialize\n",
    "    optimize, best_evaluation = set_optimize_best_evaluation(method)\n",
    "    evaluation_gain = min_evaluation_gain\n",
    "\n",
    "    if depth > max_depth or num_splits > max_splits:\n",
    "          return [(column, candidate)]\n",
    "\n",
    "    #Determine the best split\n",
    "    column, candidate, evaluation, min_split_size = RT_split(independent_variables, dependent_variable, method, random_feature_count)\n",
    "    \n",
    "    #subset\n",
    "    indep_subset_left = independent_variables[independent_variables[column] < candidate]\n",
    "    indep_subset_right = independent_variables[independent_variables[column] >= candidate]\n",
    "    dep_subset_left = dependent_variable[independent_variables[column] < candidate]\n",
    "    dep_subset_right = dependent_variable[independent_variables[column] >= candidate]\n",
    "    \n",
    "    depth += 1\n",
    "    num_splits += 1\n",
    "    \n",
    "    #from here on everything goes to shit\n",
    "    left_results = RT_recursion(indep_subset_left, dep_subset_left, #data inputs\n",
    "        method, #evaluation specification\n",
    "        random_feature_count, bootstrap_count, #sampling methods\n",
    "        min_evaluation_gain, sample_size_limit, #split skipping criterion\n",
    "        max_depth, max_splits, #stopping criterions\n",
    "        depth, num_splits #recursion passes\n",
    "        )\n",
    "    \n",
    "    right_results = RT_recursion(indep_subset_right, dep_subset_right, #data inputs\n",
    "        method, #evaluation specification\n",
    "        random_feature_count, bootstrap_count, #sampling methods\n",
    "        min_evaluation_gain, sample_size_limit, #split skipping criterion\n",
    "        max_depth, max_splits, #stopping criterions\n",
    "        depth, num_splits #recursion passes\n",
    "        )\n",
    "\n",
    "    return [(column, candidate)].append((left_results, right_results))"
   ]
  },
  {
   "cell_type": "markdown",
   "metadata": {},
   "source": [
    "### Tree developement"
   ]
  },
  {
   "cell_type": "code",
   "execution_count": null,
   "metadata": {},
   "outputs": [
    {
     "ename": "NameError",
     "evalue": "name 'pd' is not defined",
     "output_type": "error",
     "traceback": [
      "\u001b[1;31m---------------------------------------------------------------------------\u001b[0m",
      "\u001b[1;31mNameError\u001b[0m                                 Traceback (most recent call last)",
      "Cell \u001b[1;32mIn[1], line 1\u001b[0m\n\u001b[1;32m----> 1\u001b[0m data \u001b[38;5;241m=\u001b[39m pd\u001b[38;5;241m.\u001b[39mDataFrame({\n\u001b[0;32m      2\u001b[0m     \u001b[38;5;124m\"\u001b[39m\u001b[38;5;124mBedrooms\u001b[39m\u001b[38;5;124m\"\u001b[39m: [\u001b[38;5;241m2\u001b[39m, \u001b[38;5;241m3\u001b[39m, \u001b[38;5;241m4\u001b[39m, \u001b[38;5;241m5\u001b[39m, \u001b[38;5;241m3\u001b[39m, \u001b[38;5;241m4\u001b[39m, \u001b[38;5;241m2\u001b[39m, \u001b[38;5;241m3\u001b[39m],\n\u001b[0;32m      3\u001b[0m     \u001b[38;5;124m\"\u001b[39m\u001b[38;5;124mSquare Footage\u001b[39m\u001b[38;5;124m\"\u001b[39m: [\u001b[38;5;241m1500\u001b[39m, \u001b[38;5;241m1800\u001b[39m, \u001b[38;5;241m2200\u001b[39m, \u001b[38;5;241m2000\u001b[39m, \u001b[38;5;241m2500\u001b[39m, \u001b[38;5;241m2300\u001b[39m, \u001b[38;5;241m1600\u001b[39m, \u001b[38;5;241m1900\u001b[39m],\n\u001b[0;32m      4\u001b[0m     \u001b[38;5;124m\"\u001b[39m\u001b[38;5;124mAge\u001b[39m\u001b[38;5;124m\"\u001b[39m: [\u001b[38;5;241m20\u001b[39m, \u001b[38;5;241m15\u001b[39m, \u001b[38;5;241m25\u001b[39m, \u001b[38;5;241m10\u001b[39m, \u001b[38;5;241m5\u001b[39m, \u001b[38;5;241m8\u001b[39m, \u001b[38;5;241m30\u001b[39m, \u001b[38;5;241m12\u001b[39m],\n\u001b[0;32m      5\u001b[0m     \u001b[38;5;124m\"\u001b[39m\u001b[38;5;124mPrice\u001b[39m\u001b[38;5;124m\"\u001b[39m: [\u001b[38;5;241m250\u001b[39m, \u001b[38;5;241m300\u001b[39m, \u001b[38;5;241m300\u001b[39m, \u001b[38;5;241m320\u001b[39m, \u001b[38;5;241m500\u001b[39m, \u001b[38;5;241m450\u001b[39m, \u001b[38;5;241m350\u001b[39m, \u001b[38;5;241m350\u001b[39m]\n\u001b[0;32m      6\u001b[0m })\n\u001b[0;32m      8\u001b[0m data2 \u001b[38;5;241m=\u001b[39m pd\u001b[38;5;241m.\u001b[39mDataFrame({\n\u001b[0;32m      9\u001b[0m     \u001b[38;5;124m\"\u001b[39m\u001b[38;5;124mBedrooms\u001b[39m\u001b[38;5;124m\"\u001b[39m: [\u001b[38;5;241m2\u001b[39m, \u001b[38;5;241m3\u001b[39m, \u001b[38;5;241m4\u001b[39m, \u001b[38;5;241m3\u001b[39m, \u001b[38;5;241m5\u001b[39m, \u001b[38;5;241m4\u001b[39m, \u001b[38;5;241m2\u001b[39m, \u001b[38;5;241m3\u001b[39m],\n\u001b[0;32m     10\u001b[0m     \u001b[38;5;124m\"\u001b[39m\u001b[38;5;124mPrice\u001b[39m\u001b[38;5;124m\"\u001b[39m: [\u001b[38;5;241m250\u001b[39m, \u001b[38;5;241m300\u001b[39m, \u001b[38;5;241m400\u001b[39m, \u001b[38;5;241m320\u001b[39m, \u001b[38;5;241m500\u001b[39m, \u001b[38;5;241m450\u001b[39m, \u001b[38;5;241m200\u001b[39m, \u001b[38;5;241m350\u001b[39m]\n\u001b[0;32m     11\u001b[0m })\n\u001b[0;32m     13\u001b[0m independent_variables, dependent_variable \u001b[38;5;241m=\u001b[39m subset_data(data, \u001b[38;5;124m\"\u001b[39m\u001b[38;5;124mPrice\u001b[39m\u001b[38;5;124m\"\u001b[39m)\n",
      "\u001b[1;31mNameError\u001b[0m: name 'pd' is not defined"
     ]
    }
   ],
   "source": [
    "data = pd.DataFrame({\n",
    "    \"Bedrooms\": [2, 3, 4, 5, 3, 4, 2, 3],\n",
    "    \"Square Footage\": [1500, 1800, 2200, 2000, 2500, 2300, 1600, 1900],\n",
    "    \"Age\": [20, 15, 25, 10, 5, 8, 30, 12],\n",
    "    \"Price\": [250, 300, 300, 320, 500, 450, 350, 350]\n",
    "})\n",
    "\n",
    "data2 = pd.DataFrame({\n",
    "    \"Bedrooms\": [2, 3, 4, 3, 5, 4, 2, 3],\n",
    "    \"Price\": [250, 300, 400, 320, 500, 450, 200, 350]\n",
    "})\n",
    "\n",
    "independent_variables, dependent_variable = subset_data(data, \"Price\")\n",
    "#print(independent_variables)\n",
    "\n",
    "#print(\"Result of evaluate function:\", evaluate(subset1, subset2, method=\"min. MSR\"))\n",
    "#print(RT_univariate_split(independent_variables, dependent_variable))\n",
    "#print(RT_split(independent_variables, dependent_variable, random_feature_count = 2))\n",
    "print(RT_recursion(independent_variables, dependent_variable, min_evaluation_gain=0.1))\n"
   ]
  }
 ],
 "metadata": {
  "kernelspec": {
   "display_name": "base",
   "language": "python",
   "name": "python3"
  },
  "language_info": {
   "codemirror_mode": {
    "name": "ipython",
    "version": 3
   },
   "file_extension": ".py",
   "mimetype": "text/x-python",
   "name": "python",
   "nbconvert_exporter": "python",
   "pygments_lexer": "ipython3",
   "version": "3.11.7"
  }
 },
 "nbformat": 4,
 "nbformat_minor": 2
}
